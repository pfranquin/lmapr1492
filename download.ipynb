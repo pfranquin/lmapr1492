{
 "cells": [
  {
   "cell_type": "code",
   "execution_count": 2,
   "metadata": {},
   "outputs": [
    {
     "name": "stdout",
     "output_type": "stream",
     "text": [
      "Il suffit de cliquer sur le lien pour télécharger le fichier .CIF\n"
     ]
    },
    {
     "data": {
      "text/html": [
       "<a href='mp-961661.cif' target='_blank'>mp-961661.cif</a><br>"
      ],
      "text/plain": [
       "/home/users/p/f/pfranqui/mp-961661.cif"
      ]
     },
     "metadata": {},
     "output_type": "display_data"
    }
   ],
   "source": [
    "from pymatgen.ext.matproj import MPRester\n",
    "from pymatgen.io.cif import CifWriter\n",
    "from IPython.display import FileLink\n",
    "\n",
    "key = \"cBffMzOkc37GR0iu9dXW\"\n",
    "material = \"mp-961661\"\n",
    "material_name = \"ZrSiPd\"\n",
    "with MPRester(key) as m:\n",
    "    struct = m.get_structure_by_material_id(material,conventional_unit_cell=True)\n",
    "    w = CifWriter(struct)\n",
    "    w.write_file(material+\".cif\") \n",
    "    print(\"Il suffit de cliquer sur le lien pour télécharger le fichier .CIF\")\n",
    "    display(FileLink(material+\".cif\"))\n",
    "\n",
    "\n",
    "\n"
   ]
  },
  {
   "cell_type": "code",
   "execution_count": null,
   "metadata": {},
   "outputs": [],
   "source": []
  },
  {
   "cell_type": "code",
   "execution_count": null,
   "metadata": {},
   "outputs": [],
   "source": []
  },
  {
   "cell_type": "code",
   "execution_count": null,
   "metadata": {},
   "outputs": [],
   "source": []
  }
 ],
 "metadata": {
  "kernelspec": {
   "display_name": "Python 3",
   "language": "python",
   "name": "python3"
  },
  "language_info": {
   "codemirror_mode": {
    "name": "ipython",
    "version": 3
   },
   "file_extension": ".py",
   "mimetype": "text/x-python",
   "name": "python",
   "nbconvert_exporter": "python",
   "pygments_lexer": "ipython3",
   "version": "3.6.8"
  },
  "vscode": {
   "interpreter": {
    "hash": "31f2aee4e71d21fbe5cf8b01ff0e069b9275f58929596ceb00d14d90e3e16cd6"
   }
  }
 },
 "nbformat": 4,
 "nbformat_minor": 2
}
