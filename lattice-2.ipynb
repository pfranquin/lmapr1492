{
 "cells": [
  {
   "cell_type": "code",
   "execution_count": 17,
   "id": "cf18657b",
   "metadata": {},
   "outputs": [
    {
     "name": "stdout",
     "output_type": "stream",
     "text": [
      "Il suffit de cliquer sur le lien pour télécharger le fichier .CIF\n"
     ]
    },
    {
     "data": {
      "text/html": [
       "<a href='mp-961661.cif' target='_blank'>mp-961661.cif</a><br>"
      ],
      "text/plain": [
       "/home/users/p/f/pfranqui/mp-961661.cif"
      ]
     },
     "metadata": {},
     "output_type": "display_data"
    }
   ],
   "source": [
    "from pymatgen.ext.matproj import MPRester\n",
    "from pymatgen.io.cif import CifWriter\n",
    "from IPython.display import FileLink\n",
    "from pymatgen.symmetry.analyzer import SpacegroupAnalyzer\n",
    "\n",
    "key = \"cBffMzOkc37GR0iu9dXW\"\n",
    "material = \"mp-961661\"\n",
    "material_name = \"ZrSiPd\"\n",
    "with MPRester(key) as m:\n",
    "    struct = m.get_structure_by_material_id(material, conventional_unit_cell=True)\n",
    "    w = CifWriter(struct)\n",
    "    w.write_file(material+\".cif\") \n",
    "    print(\"Il suffit de cliquer sur le lien pour télécharger le fichier .CIF\")\n",
    "    display(FileLink(material+\".cif\"))"
   ]
  },
  {
   "cell_type": "code",
   "execution_count": 19,
   "id": "8199ef73",
   "metadata": {},
   "outputs": [
    {
     "name": "stdout",
     "output_type": "stream",
     "text": [
      "L'ID du matériau étudié est mp-961661\n",
      "\n",
      "Les vecteurs de bases du réseau direct sont : \n",
      "\n",
      "6.114316 0.000000 0.000000\n",
      "0.000000 6.114316 0.000000\n",
      "0.000000 0.000000 6.114316\n",
      "\n",
      "Ou encore les longueurs en Angström : \n",
      "\n",
      "a = 6.114316\n",
      "b = 6.114316\n",
      "c = 6.114316\n",
      "\n",
      "Vecteurs du réseau réciproque : \n",
      "\n",
      "1.027619 -0.000000 0.000000\n",
      "0.000000 1.027619 0.000000\n",
      "-0.000000 -0.000000 1.027619\n",
      "\n",
      "Ou encore les longueurs en Angström : \n",
      "\n",
      "a* = 1.0276186751191116\n",
      "b* = 1.0276186751191116\n",
      "c* = 1.0276186751191116\n",
      "\n",
      "Type de maille : cubic\n",
      "\n",
      "Système cristallin : cubic\n",
      "\n",
      "Groupe ponctuel : -43m\n"
     ]
    }
   ],
   "source": [
    "print(\"L'ID du matériau étudié est \" + material + \"\\n\")\n",
    "\n",
    "vect_direct = struct.lattice\n",
    "print(\"Les vecteurs de bases du réseau direct sont : \\n\")\n",
    "print(vect_direct)\n",
    "lengths = vect_direct.abc\n",
    "\n",
    "print(\"\\nOu encore les longueurs en Angström : \\n\")\n",
    "print(\"a = \" + str(lengths[0]))\n",
    "print(\"b = \" + str(lengths[1]))\n",
    "print(\"c = \" + str(lengths[2]))\n",
    "\n",
    "\n",
    "vect_reci = struct.lattice.reciprocal_lattice\n",
    "print(\"\\nVecteurs du réseau réciproque : \\n\")\n",
    "print(vect_reci)\n",
    "lengths_r = vect_reci.abc\n",
    "print(\"\\nOu encore les longueurs en Angström : \\n\")\n",
    "print(\"a* = \" + str(lengths_r[0]))\n",
    "print(\"b* = \" + str(lengths_r[1]))\n",
    "print(\"c* = \" + str(lengths_r[2]))\n",
    "\n",
    "lattice = SpacegroupAnalyzer(struct).get_lattice_type()\n",
    "print(\"\\nType de maille : \" + lattice[:])\n",
    "\n",
    "systeme = SpacegroupAnalyzer(struct).get_crystal_system()\n",
    "print(\"\\nSystème cristallin : \" + syst[:])\n",
    "\n",
    "groupe = SpacegroupAnalyzer(struct).get_point_group_symbol()\n",
    "print(\"\\nGroupe ponctuel : \" + groupe)\n"
   ]
  },
  {
   "cell_type": "code",
   "execution_count": null,
   "id": "dd34bac3",
   "metadata": {},
   "outputs": [],
   "source": []
  },
  {
   "cell_type": "code",
   "execution_count": null,
   "id": "fbd153c8",
   "metadata": {},
   "outputs": [],
   "source": []
  }
 ],
 "metadata": {
  "kernelspec": {
   "display_name": "Python 3",
   "language": "python",
   "name": "python3"
  },
  "language_info": {
   "codemirror_mode": {
    "name": "ipython",
    "version": 3
   },
   "file_extension": ".py",
   "mimetype": "text/x-python",
   "name": "python",
   "nbconvert_exporter": "python",
   "pygments_lexer": "ipython3",
   "version": "3.6.8"
  }
 },
 "nbformat": 4,
 "nbformat_minor": 5
}
